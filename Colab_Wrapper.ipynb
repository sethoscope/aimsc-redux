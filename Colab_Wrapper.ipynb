{
  "nbformat": 4,
  "nbformat_minor": 0,
  "metadata": {
    "colab": {
      "name": "Colab Wrapper.ipynb",
      "provenance": [],
      "collapsed_sections": []
    },
    "kernelspec": {
      "name": "python3",
      "display_name": "Python 3"
    },
    "accelerator": "GPU"
  },
  "cells": [
    {
      "cell_type": "markdown",
      "metadata": {
        "id": "w_ojQsxV2pmU",
        "colab_type": "text"
      },
      "source": [
        "First we connect to Google Drive (so we can access music files) and install Python packages we need."
      ]
    },
    {
      "cell_type": "code",
      "metadata": {
        "id": "8_zL0jUrGHFu",
        "colab_type": "code",
        "colab": {}
      },
      "source": [
        "from google.colab import drive\n",
        "import os\n",
        "import os.path\n",
        "MOUNT_POINT='/content/drive'\n",
        "if not os.path.exists(MOUNT_POINT):\n",
        "    drive.mount(MOUNT_POINT)\n",
        "PROJECT_ROOT = os.path.join(MOUNT_POINT, 'My Drive/aimsc-redux')\n",
        "MUSIC_DIR = os.path.join(PROJECT_ROOT, 'music')\n",
        "CMD = os.path.join(PROJECT_ROOT, 'test_and_train.py')\n",
        "!pip install torchaudio"
      ],
      "execution_count": null,
      "outputs": []
    },
    {
      "cell_type": "markdown",
      "metadata": {
        "id": "RyQBLJmSEcgD",
        "colab_type": "text"
      },
      "source": [
        "Do you have a GPU? Might be good to know if that's working."
      ]
    },
    {
      "cell_type": "code",
      "metadata": {
        "id": "pGUdzMA1DdVm",
        "colab_type": "code",
        "colab": {}
      },
      "source": [
        "import torch\n",
        "torch.cuda.is_available()"
      ],
      "execution_count": null,
      "outputs": []
    },
    {
      "cell_type": "markdown",
      "metadata": {
        "id": "hlphSrKL0oV9",
        "colab_type": "text"
      },
      "source": [
        "Now grab the project files and import the module"
      ]
    },
    {
      "cell_type": "code",
      "metadata": {
        "id": "yL8gKc180sq-",
        "colab_type": "code",
        "colab": {}
      },
      "source": [
        "!git clone https://github.com/sethoscope/aimsc-redux.git\n",
        "%cd aimsc-redux\n",
        "# import our module. Not sure why it's so hard, but this works.\n",
        "import importlib.util\n",
        "spec = importlib.util.spec_from_file_location('music_classifier', \"music_classifier.py\")\n",
        "music_classifier = importlib.util.module_from_spec(spec)\n",
        "spec.loader.exec_module(music_classifier)\n",
        "print('ok')"
      ],
      "execution_count": null,
      "outputs": []
    },
    {
      "cell_type": "markdown",
      "metadata": {
        "id": "e5Vhr5VXOGsi",
        "colab_type": "text"
      },
      "source": [
        "Import the code, run it with --help just to show you the options"
      ]
    },
    {
      "cell_type": "code",
      "metadata": {
        "id": "da15r0IUGYBD",
        "colab_type": "code",
        "colab": {
          "base_uri": "https://localhost:8080/",
          "height": 561
        },
        "outputId": "5c032c2e-7b7b-4169-a6c9-7e35564ae447"
      },
      "source": [
        "# Just to see available options:\n",
        "!python3 music_classifier.py --help"
      ],
      "execution_count": 3,
      "outputs": [
        {
          "output_type": "stream",
          "text": [
            "usage: music_classifier.py [-h] [-v] [--debug] [--epochs EPOCHS]\n",
            "                           [-l SEGMENT_LENGTH] [-r DOWNSAMPLE_RATE] [--plot]\n",
            "                           [--train_frac TRAIN_FRAC]\n",
            "                           [--log_interval LOG_INTERVAL]\n",
            "                           [--batch_size BATCH_SIZE]\n",
            "                           [--num_workers_cpu NUM_WORKERS_CPU]\n",
            "                           [--num_workers_cuda NUM_WORKERS_CUDA]\n",
            "                           music_dir metadata\n",
            "\n",
            "positional arguments:\n",
            "  music_dir             directory containing music files\n",
            "  metadata              yaml file containing song metadata\n",
            "\n",
            "optional arguments:\n",
            "  -h, --help            show this help message and exit\n",
            "  -v, --verbose\n",
            "  --debug\n",
            "  --epochs EPOCHS       training epochs (default: 80)\n",
            "  -l SEGMENT_LENGTH, --segment_length SEGMENT_LENGTH\n",
            "                        samples per segment (default: 32000)\n",
            "  -r DOWNSAMPLE_RATE, --downsample_rate DOWNSAMPLE_RATE\n",
            "                        downsample the audio by this (default: 4)\n",
            "  --plot\n",
            "  --train_frac TRAIN_FRAC\n",
            "                        fraction of data to be used for training (vs testing)\n",
            "                        (default: 0.9)\n",
            "  --log_interval LOG_INTERVAL\n",
            "  --batch_size BATCH_SIZE\n",
            "                        number of training samples to run as a batch (default:\n",
            "                        128)\n",
            "  --num_workers_cpu NUM_WORKERS_CPU\n",
            "  --num_workers_cuda NUM_WORKERS_CUDA\n"
          ],
          "name": "stdout"
        }
      ]
    },
    {
      "cell_type": "markdown",
      "metadata": {
        "id": "fxGZIXwJ28ub",
        "colab_type": "text"
      },
      "source": [
        "Now everything is set up and we can run the script."
      ]
    },
    {
      "cell_type": "code",
      "metadata": {
        "id": "oMzFBbA4OEp1",
        "colab_type": "code",
        "colab": {}
      },
      "source": [
        "args = music_classifier.fill_defaults(\n",
        "                     music_dir = os.path.join(MUSIC_DIR, '5sec'),\n",
        "                     metadata = 'metadata/2-classes-wav.yaml',\n",
        "                     epochs = 5,\n",
        "                     verbose = True,\n",
        "                     debug = True,\n",
        "                     # override other options here\n",
        "                     )\n",
        "test_results = music_classifier.train_and_test(**args)\n",
        "print(f'test results: {test_results}')"
      ],
      "execution_count": null,
      "outputs": []
    },
    {
      "cell_type": "markdown",
      "metadata": {
        "id": "8i9-cGbKEmiY",
        "colab_type": "text"
      },
      "source": [
        "Plot the learning curve"
      ]
    },
    {
      "cell_type": "code",
      "metadata": {
        "id": "-Q9Ys6W7CsSv",
        "colab_type": "code",
        "colab": {}
      },
      "source": [
        "import matplotlib.pyplot as plt\n",
        "plt.plot(test_results)\n",
        "plt.show()"
      ],
      "execution_count": null,
      "outputs": []
    }
  ]
}